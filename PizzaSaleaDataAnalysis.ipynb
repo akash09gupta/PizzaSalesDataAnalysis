{
 "cells": [
  {
   "cell_type": "code",
   "execution_count": 184,
   "id": "f795c1f7-4ef3-4894-ac45-a662666ab5dc",
   "metadata": {},
   "outputs": [],
   "source": [
    "import pandas as pd\n",
    "import numpy as np\n",
    "import matplotlib.pyplot as plt\n",
    "import seaborn as sns\n",
    "#importing all the libraries"
   ]
  },
  {
   "cell_type": "code",
   "execution_count": 185,
   "id": "156c35b0-828b-46fd-889a-19f62ee608a7",
   "metadata": {},
   "outputs": [],
   "source": [
    "df = pd.read_csv('pizza_sales.csv') #reading the data"
   ]
  },
  {
   "cell_type": "markdown",
   "id": "2a6f72dc-26e0-4f7c-80f4-11458fc6192c",
   "metadata": {},
   "source": [
    "Explotory Data Analysis"
   ]
  },
  {
   "cell_type": "code",
   "execution_count": 186,
   "id": "afe36810-d92a-40e0-9974-5a3fdfab452d",
   "metadata": {},
   "outputs": [
    {
     "data": {
      "text/html": [
       "<div>\n",
       "<style scoped>\n",
       "    .dataframe tbody tr th:only-of-type {\n",
       "        vertical-align: middle;\n",
       "    }\n",
       "\n",
       "    .dataframe tbody tr th {\n",
       "        vertical-align: top;\n",
       "    }\n",
       "\n",
       "    .dataframe thead th {\n",
       "        text-align: right;\n",
       "    }\n",
       "</style>\n",
       "<table border=\"1\" class=\"dataframe\">\n",
       "  <thead>\n",
       "    <tr style=\"text-align: right;\">\n",
       "      <th></th>\n",
       "      <th>pizza_id</th>\n",
       "      <th>order_id</th>\n",
       "      <th>pizza_name_id</th>\n",
       "      <th>quantity</th>\n",
       "      <th>order_date</th>\n",
       "      <th>order_time</th>\n",
       "      <th>unit_price</th>\n",
       "      <th>total_price</th>\n",
       "      <th>pizza_size</th>\n",
       "      <th>pizza_category</th>\n",
       "      <th>pizza_ingredients</th>\n",
       "      <th>pizza_name</th>\n",
       "    </tr>\n",
       "  </thead>\n",
       "  <tbody>\n",
       "    <tr>\n",
       "      <th>0</th>\n",
       "      <td>1</td>\n",
       "      <td>1</td>\n",
       "      <td>hawaiian_m</td>\n",
       "      <td>1</td>\n",
       "      <td>1/1/2015</td>\n",
       "      <td>11:38:36</td>\n",
       "      <td>13.25</td>\n",
       "      <td>13.25</td>\n",
       "      <td>M</td>\n",
       "      <td>Classic</td>\n",
       "      <td>Sliced Ham, Pineapple, Mozzarella Cheese</td>\n",
       "      <td>The Hawaiian Pizza</td>\n",
       "    </tr>\n",
       "    <tr>\n",
       "      <th>1</th>\n",
       "      <td>2</td>\n",
       "      <td>2</td>\n",
       "      <td>classic_dlx_m</td>\n",
       "      <td>1</td>\n",
       "      <td>1/1/2015</td>\n",
       "      <td>11:57:40</td>\n",
       "      <td>16.00</td>\n",
       "      <td>16.00</td>\n",
       "      <td>M</td>\n",
       "      <td>Classic</td>\n",
       "      <td>Pepperoni, Mushrooms, Red Onions, Red Peppers,...</td>\n",
       "      <td>The Classic Deluxe Pizza</td>\n",
       "    </tr>\n",
       "    <tr>\n",
       "      <th>2</th>\n",
       "      <td>3</td>\n",
       "      <td>2</td>\n",
       "      <td>five_cheese_l</td>\n",
       "      <td>1</td>\n",
       "      <td>1/1/2015</td>\n",
       "      <td>11:57:40</td>\n",
       "      <td>18.50</td>\n",
       "      <td>18.50</td>\n",
       "      <td>L</td>\n",
       "      <td>Veggie</td>\n",
       "      <td>Mozzarella Cheese, Provolone Cheese, Smoked Go...</td>\n",
       "      <td>The Five Cheese Pizza</td>\n",
       "    </tr>\n",
       "    <tr>\n",
       "      <th>3</th>\n",
       "      <td>4</td>\n",
       "      <td>2</td>\n",
       "      <td>ital_supr_l</td>\n",
       "      <td>1</td>\n",
       "      <td>1/1/2015</td>\n",
       "      <td>11:57:40</td>\n",
       "      <td>20.75</td>\n",
       "      <td>20.75</td>\n",
       "      <td>L</td>\n",
       "      <td>Supreme</td>\n",
       "      <td>Calabrese Salami, Capocollo, Tomatoes, Red Oni...</td>\n",
       "      <td>The Italian Supreme Pizza</td>\n",
       "    </tr>\n",
       "    <tr>\n",
       "      <th>4</th>\n",
       "      <td>5</td>\n",
       "      <td>2</td>\n",
       "      <td>mexicana_m</td>\n",
       "      <td>1</td>\n",
       "      <td>1/1/2015</td>\n",
       "      <td>11:57:40</td>\n",
       "      <td>16.00</td>\n",
       "      <td>16.00</td>\n",
       "      <td>M</td>\n",
       "      <td>Veggie</td>\n",
       "      <td>Tomatoes, Red Peppers, Jalapeno Peppers, Red O...</td>\n",
       "      <td>The Mexicana Pizza</td>\n",
       "    </tr>\n",
       "  </tbody>\n",
       "</table>\n",
       "</div>"
      ],
      "text/plain": [
       "   pizza_id  order_id  pizza_name_id  quantity order_date order_time  \\\n",
       "0         1         1     hawaiian_m         1   1/1/2015   11:38:36   \n",
       "1         2         2  classic_dlx_m         1   1/1/2015   11:57:40   \n",
       "2         3         2  five_cheese_l         1   1/1/2015   11:57:40   \n",
       "3         4         2    ital_supr_l         1   1/1/2015   11:57:40   \n",
       "4         5         2     mexicana_m         1   1/1/2015   11:57:40   \n",
       "\n",
       "   unit_price  total_price pizza_size pizza_category  \\\n",
       "0       13.25        13.25          M        Classic   \n",
       "1       16.00        16.00          M        Classic   \n",
       "2       18.50        18.50          L         Veggie   \n",
       "3       20.75        20.75          L        Supreme   \n",
       "4       16.00        16.00          M         Veggie   \n",
       "\n",
       "                                   pizza_ingredients  \\\n",
       "0           Sliced Ham, Pineapple, Mozzarella Cheese   \n",
       "1  Pepperoni, Mushrooms, Red Onions, Red Peppers,...   \n",
       "2  Mozzarella Cheese, Provolone Cheese, Smoked Go...   \n",
       "3  Calabrese Salami, Capocollo, Tomatoes, Red Oni...   \n",
       "4  Tomatoes, Red Peppers, Jalapeno Peppers, Red O...   \n",
       "\n",
       "                  pizza_name  \n",
       "0         The Hawaiian Pizza  \n",
       "1   The Classic Deluxe Pizza  \n",
       "2      The Five Cheese Pizza  \n",
       "3  The Italian Supreme Pizza  \n",
       "4         The Mexicana Pizza  "
      ]
     },
     "execution_count": 186,
     "metadata": {},
     "output_type": "execute_result"
    }
   ],
   "source": [
    "df.head() #first 5 rows"
   ]
  },
  {
   "cell_type": "code",
   "execution_count": 187,
   "id": "06bd77a5-4279-4bb5-a13e-4b696aa3d659",
   "metadata": {},
   "outputs": [
    {
     "data": {
      "text/html": [
       "<div>\n",
       "<style scoped>\n",
       "    .dataframe tbody tr th:only-of-type {\n",
       "        vertical-align: middle;\n",
       "    }\n",
       "\n",
       "    .dataframe tbody tr th {\n",
       "        vertical-align: top;\n",
       "    }\n",
       "\n",
       "    .dataframe thead th {\n",
       "        text-align: right;\n",
       "    }\n",
       "</style>\n",
       "<table border=\"1\" class=\"dataframe\">\n",
       "  <thead>\n",
       "    <tr style=\"text-align: right;\">\n",
       "      <th></th>\n",
       "      <th>pizza_id</th>\n",
       "      <th>order_id</th>\n",
       "      <th>pizza_name_id</th>\n",
       "      <th>quantity</th>\n",
       "      <th>order_date</th>\n",
       "      <th>order_time</th>\n",
       "      <th>unit_price</th>\n",
       "      <th>total_price</th>\n",
       "      <th>pizza_size</th>\n",
       "      <th>pizza_category</th>\n",
       "      <th>pizza_ingredients</th>\n",
       "      <th>pizza_name</th>\n",
       "    </tr>\n",
       "  </thead>\n",
       "  <tbody>\n",
       "    <tr>\n",
       "      <th>48615</th>\n",
       "      <td>48616</td>\n",
       "      <td>21348</td>\n",
       "      <td>ckn_alfredo_m</td>\n",
       "      <td>1</td>\n",
       "      <td>31-12-2015</td>\n",
       "      <td>21:23:10</td>\n",
       "      <td>16.75</td>\n",
       "      <td>16.75</td>\n",
       "      <td>M</td>\n",
       "      <td>Chicken</td>\n",
       "      <td>Chicken, Red Onions, Red Peppers, Mushrooms, A...</td>\n",
       "      <td>The Chicken Alfredo Pizza</td>\n",
       "    </tr>\n",
       "    <tr>\n",
       "      <th>48616</th>\n",
       "      <td>48617</td>\n",
       "      <td>21348</td>\n",
       "      <td>four_cheese_l</td>\n",
       "      <td>1</td>\n",
       "      <td>31-12-2015</td>\n",
       "      <td>21:23:10</td>\n",
       "      <td>17.95</td>\n",
       "      <td>17.95</td>\n",
       "      <td>L</td>\n",
       "      <td>Veggie</td>\n",
       "      <td>Ricotta Cheese, Gorgonzola Piccante Cheese, Mo...</td>\n",
       "      <td>The Four Cheese Pizza</td>\n",
       "    </tr>\n",
       "    <tr>\n",
       "      <th>48617</th>\n",
       "      <td>48618</td>\n",
       "      <td>21348</td>\n",
       "      <td>napolitana_s</td>\n",
       "      <td>1</td>\n",
       "      <td>31-12-2015</td>\n",
       "      <td>21:23:10</td>\n",
       "      <td>12.00</td>\n",
       "      <td>12.00</td>\n",
       "      <td>S</td>\n",
       "      <td>Classic</td>\n",
       "      <td>Tomatoes, Anchovies, Green Olives, Red Onions,...</td>\n",
       "      <td>The Napolitana Pizza</td>\n",
       "    </tr>\n",
       "    <tr>\n",
       "      <th>48618</th>\n",
       "      <td>48619</td>\n",
       "      <td>21349</td>\n",
       "      <td>mexicana_l</td>\n",
       "      <td>1</td>\n",
       "      <td>31-12-2015</td>\n",
       "      <td>22:09:54</td>\n",
       "      <td>20.25</td>\n",
       "      <td>20.25</td>\n",
       "      <td>L</td>\n",
       "      <td>Veggie</td>\n",
       "      <td>Tomatoes, Red Peppers, Jalapeno Peppers, Red O...</td>\n",
       "      <td>The Mexicana Pizza</td>\n",
       "    </tr>\n",
       "    <tr>\n",
       "      <th>48619</th>\n",
       "      <td>48620</td>\n",
       "      <td>21350</td>\n",
       "      <td>bbq_ckn_s</td>\n",
       "      <td>1</td>\n",
       "      <td>31-12-2015</td>\n",
       "      <td>23:02:05</td>\n",
       "      <td>12.75</td>\n",
       "      <td>12.75</td>\n",
       "      <td>S</td>\n",
       "      <td>Chicken</td>\n",
       "      <td>Barbecued Chicken, Red Peppers, Green Peppers,...</td>\n",
       "      <td>The Barbecue Chicken Pizza</td>\n",
       "    </tr>\n",
       "  </tbody>\n",
       "</table>\n",
       "</div>"
      ],
      "text/plain": [
       "       pizza_id  order_id  pizza_name_id  quantity  order_date order_time  \\\n",
       "48615     48616     21348  ckn_alfredo_m         1  31-12-2015   21:23:10   \n",
       "48616     48617     21348  four_cheese_l         1  31-12-2015   21:23:10   \n",
       "48617     48618     21348   napolitana_s         1  31-12-2015   21:23:10   \n",
       "48618     48619     21349     mexicana_l         1  31-12-2015   22:09:54   \n",
       "48619     48620     21350      bbq_ckn_s         1  31-12-2015   23:02:05   \n",
       "\n",
       "       unit_price  total_price pizza_size pizza_category  \\\n",
       "48615       16.75        16.75          M        Chicken   \n",
       "48616       17.95        17.95          L         Veggie   \n",
       "48617       12.00        12.00          S        Classic   \n",
       "48618       20.25        20.25          L         Veggie   \n",
       "48619       12.75        12.75          S        Chicken   \n",
       "\n",
       "                                       pizza_ingredients  \\\n",
       "48615  Chicken, Red Onions, Red Peppers, Mushrooms, A...   \n",
       "48616  Ricotta Cheese, Gorgonzola Piccante Cheese, Mo...   \n",
       "48617  Tomatoes, Anchovies, Green Olives, Red Onions,...   \n",
       "48618  Tomatoes, Red Peppers, Jalapeno Peppers, Red O...   \n",
       "48619  Barbecued Chicken, Red Peppers, Green Peppers,...   \n",
       "\n",
       "                       pizza_name  \n",
       "48615   The Chicken Alfredo Pizza  \n",
       "48616       The Four Cheese Pizza  \n",
       "48617        The Napolitana Pizza  \n",
       "48618          The Mexicana Pizza  \n",
       "48619  The Barbecue Chicken Pizza  "
      ]
     },
     "execution_count": 187,
     "metadata": {},
     "output_type": "execute_result"
    }
   ],
   "source": [
    "df.tail() #last 5 rows"
   ]
  },
  {
   "cell_type": "code",
   "execution_count": 188,
   "id": "d4728bd0-9844-4aaa-acce-1819c0aae175",
   "metadata": {},
   "outputs": [
    {
     "data": {
      "text/plain": [
       "(48620, 12)"
      ]
     },
     "execution_count": 188,
     "metadata": {},
     "output_type": "execute_result"
    }
   ],
   "source": [
    "df.shape #checking the number of rows & columns"
   ]
  },
  {
   "cell_type": "code",
   "execution_count": 189,
   "id": "0f31f389-5d0a-4b99-9415-6a0c064e9c6d",
   "metadata": {},
   "outputs": [
    {
     "data": {
      "text/plain": [
       "pizza_id             0\n",
       "order_id             0\n",
       "pizza_name_id        0\n",
       "quantity             0\n",
       "order_date           0\n",
       "order_time           0\n",
       "unit_price           0\n",
       "total_price          0\n",
       "pizza_size           0\n",
       "pizza_category       0\n",
       "pizza_ingredients    0\n",
       "pizza_name           0\n",
       "dtype: int64"
      ]
     },
     "execution_count": 189,
     "metadata": {},
     "output_type": "execute_result"
    }
   ],
   "source": [
    "df.isnull().sum() #checking the null values"
   ]
  },
  {
   "cell_type": "code",
   "execution_count": 190,
   "id": "01ab2146-fe1a-4c04-b2db-0712a1d33613",
   "metadata": {},
   "outputs": [
    {
     "data": {
      "text/plain": [
       "pizza_id               int64\n",
       "order_id               int64\n",
       "pizza_name_id         object\n",
       "quantity               int64\n",
       "order_date            object\n",
       "order_time            object\n",
       "unit_price           float64\n",
       "total_price          float64\n",
       "pizza_size            object\n",
       "pizza_category        object\n",
       "pizza_ingredients     object\n",
       "pizza_name            object\n",
       "dtype: object"
      ]
     },
     "execution_count": 190,
     "metadata": {},
     "output_type": "execute_result"
    }
   ],
   "source": [
    "df.dtypes #Checking data types of columns"
   ]
  },
  {
   "cell_type": "code",
   "execution_count": 209,
   "id": "8f904488-b0f1-4abf-9479-1dfe8ae07edb",
   "metadata": {},
   "outputs": [
    {
     "data": {
      "text/html": [
       "<div>\n",
       "<style scoped>\n",
       "    .dataframe tbody tr th:only-of-type {\n",
       "        vertical-align: middle;\n",
       "    }\n",
       "\n",
       "    .dataframe tbody tr th {\n",
       "        vertical-align: top;\n",
       "    }\n",
       "\n",
       "    .dataframe thead th {\n",
       "        text-align: right;\n",
       "    }\n",
       "</style>\n",
       "<table border=\"1\" class=\"dataframe\">\n",
       "  <thead>\n",
       "    <tr style=\"text-align: right;\">\n",
       "      <th></th>\n",
       "      <th>quantity</th>\n",
       "      <th>unit_price</th>\n",
       "      <th>total_price</th>\n",
       "    </tr>\n",
       "  </thead>\n",
       "  <tbody>\n",
       "    <tr>\n",
       "      <th>count</th>\n",
       "      <td>48620.000000</td>\n",
       "      <td>48620.000000</td>\n",
       "      <td>48620.000000</td>\n",
       "    </tr>\n",
       "    <tr>\n",
       "      <th>mean</th>\n",
       "      <td>1.019622</td>\n",
       "      <td>16.494132</td>\n",
       "      <td>16.821474</td>\n",
       "    </tr>\n",
       "    <tr>\n",
       "      <th>std</th>\n",
       "      <td>0.143077</td>\n",
       "      <td>3.621789</td>\n",
       "      <td>4.437398</td>\n",
       "    </tr>\n",
       "    <tr>\n",
       "      <th>min</th>\n",
       "      <td>1.000000</td>\n",
       "      <td>9.750000</td>\n",
       "      <td>9.750000</td>\n",
       "    </tr>\n",
       "    <tr>\n",
       "      <th>25%</th>\n",
       "      <td>1.000000</td>\n",
       "      <td>12.750000</td>\n",
       "      <td>12.750000</td>\n",
       "    </tr>\n",
       "    <tr>\n",
       "      <th>50%</th>\n",
       "      <td>1.000000</td>\n",
       "      <td>16.500000</td>\n",
       "      <td>16.500000</td>\n",
       "    </tr>\n",
       "    <tr>\n",
       "      <th>75%</th>\n",
       "      <td>1.000000</td>\n",
       "      <td>20.250000</td>\n",
       "      <td>20.500000</td>\n",
       "    </tr>\n",
       "    <tr>\n",
       "      <th>max</th>\n",
       "      <td>4.000000</td>\n",
       "      <td>35.950000</td>\n",
       "      <td>83.000000</td>\n",
       "    </tr>\n",
       "  </tbody>\n",
       "</table>\n",
       "</div>"
      ],
      "text/plain": [
       "           quantity    unit_price   total_price\n",
       "count  48620.000000  48620.000000  48620.000000\n",
       "mean       1.019622     16.494132     16.821474\n",
       "std        0.143077      3.621789      4.437398\n",
       "min        1.000000      9.750000      9.750000\n",
       "25%        1.000000     12.750000     12.750000\n",
       "50%        1.000000     16.500000     16.500000\n",
       "75%        1.000000     20.250000     20.500000\n",
       "max        4.000000     35.950000     83.000000"
      ]
     },
     "execution_count": 209,
     "metadata": {},
     "output_type": "execute_result"
    }
   ],
   "source": [
    "df.describe() #summary of numerical column"
   ]
  },
  {
   "cell_type": "code",
   "execution_count": 191,
   "id": "45d8d05b-06ea-42a8-97b9-ec52f79f59e9",
   "metadata": {},
   "outputs": [
    {
     "data": {
      "text/plain": [
       "array(['hawaiian_m', 'classic_dlx_m', 'five_cheese_l', 'ital_supr_l',\n",
       "       'mexicana_m', 'thai_ckn_l', 'ital_supr_m', 'prsc_argla_l',\n",
       "       'bbq_ckn_s', 'the_greek_s', 'spinach_supr_s', 'classic_dlx_s',\n",
       "       'green_garden_s', 'ital_cpcllo_l', 'ital_supr_s', 'mexicana_s',\n",
       "       'spicy_ital_l', 'spin_pesto_l', 'veggie_veg_s', 'mexicana_l',\n",
       "       'southw_ckn_l', 'bbq_ckn_l', 'cali_ckn_l', 'cali_ckn_m',\n",
       "       'pepperoni_l', 'cali_ckn_s', 'ckn_pesto_l', 'big_meat_s',\n",
       "       'soppressata_l', 'four_cheese_l', 'napolitana_s', 'calabrese_m',\n",
       "       'four_cheese_m', 'ital_veggie_s', 'mediterraneo_m',\n",
       "       'peppr_salami_s', 'spinach_fet_l', 'napolitana_l', 'sicilian_l',\n",
       "       'ital_cpcllo_m', 'southw_ckn_s', 'bbq_ckn_m', 'pepperoni_m',\n",
       "       'prsc_argla_s', 'sicilian_m', 'veggie_veg_l', 'ckn_alfredo_s',\n",
       "       'pepperoni_s', 'green_garden_l', 'green_garden_m', 'pep_msh_pep_l',\n",
       "       'hawaiian_s', 'peppr_salami_m', 'ckn_alfredo_m', 'peppr_salami_l',\n",
       "       'spin_pesto_s', 'thai_ckn_m', 'classic_dlx_l', 'ckn_pesto_m',\n",
       "       'the_greek_xl', 'hawaiian_l', 'pep_msh_pep_s', 'spinach_supr_m',\n",
       "       'prsc_argla_m', 'mediterraneo_l', 'southw_ckn_m', 'pep_msh_pep_m',\n",
       "       'sicilian_s', 'spicy_ital_s', 'thai_ckn_s', 'spinach_supr_l',\n",
       "       'ital_veggie_l', 'veggie_veg_m', 'the_greek_m', 'ckn_pesto_s',\n",
       "       'spinach_fet_s', 'spicy_ital_m', 'ital_veggie_m', 'ital_cpcllo_s',\n",
       "       'mediterraneo_s', 'spinach_fet_m', 'napolitana_m', 'spin_pesto_m',\n",
       "       'brie_carre_s', 'ckn_alfredo_l', 'calabrese_s', 'the_greek_l',\n",
       "       'soppressata_m', 'soppressata_s', 'calabrese_l', 'the_greek_xxl'],\n",
       "      dtype=object)"
      ]
     },
     "execution_count": 191,
     "metadata": {},
     "output_type": "execute_result"
    }
   ],
   "source": [
    "df['pizza_name_id'].unique() #checking the unique values for the categorial column"
   ]
  },
  {
   "cell_type": "code",
   "execution_count": 192,
   "id": "314b9af1-ac63-4374-bc8d-d50a3fb57387",
   "metadata": {},
   "outputs": [
    {
     "data": {
      "text/plain": [
       "array(['M', 'L', 'S', 'XL', 'XXL'], dtype=object)"
      ]
     },
     "execution_count": 192,
     "metadata": {},
     "output_type": "execute_result"
    }
   ],
   "source": [
    "df['pizza_size'].unique() #checking the value count for the categorial column"
   ]
  },
  {
   "cell_type": "code",
   "execution_count": 193,
   "id": "dc8406d3-0a1b-40fb-8755-a0908d50c85d",
   "metadata": {},
   "outputs": [
    {
     "data": {
      "text/plain": [
       "array(['Classic', 'Veggie', 'Supreme', 'Chicken'], dtype=object)"
      ]
     },
     "execution_count": 193,
     "metadata": {},
     "output_type": "execute_result"
    }
   ],
   "source": [
    "df['pizza_category'].unique() #checking the value count for the categorial column"
   ]
  },
  {
   "cell_type": "code",
   "execution_count": 194,
   "id": "5d5b19ce-d245-42d4-b2f5-58c33f509db5",
   "metadata": {},
   "outputs": [
    {
     "data": {
      "text/html": [
       "<div>\n",
       "<style scoped>\n",
       "    .dataframe tbody tr th:only-of-type {\n",
       "        vertical-align: middle;\n",
       "    }\n",
       "\n",
       "    .dataframe tbody tr th {\n",
       "        vertical-align: top;\n",
       "    }\n",
       "\n",
       "    .dataframe thead th {\n",
       "        text-align: right;\n",
       "    }\n",
       "</style>\n",
       "<table border=\"1\" class=\"dataframe\">\n",
       "  <thead>\n",
       "    <tr style=\"text-align: right;\">\n",
       "      <th></th>\n",
       "      <th>quantity</th>\n",
       "      <th>order_date</th>\n",
       "      <th>unit_price</th>\n",
       "      <th>total_price</th>\n",
       "      <th>pizza_size</th>\n",
       "      <th>pizza_category</th>\n",
       "    </tr>\n",
       "  </thead>\n",
       "  <tbody>\n",
       "    <tr>\n",
       "      <th>0</th>\n",
       "      <td>1</td>\n",
       "      <td>1/1/2015</td>\n",
       "      <td>13.25</td>\n",
       "      <td>13.25</td>\n",
       "      <td>M</td>\n",
       "      <td>Classic</td>\n",
       "    </tr>\n",
       "    <tr>\n",
       "      <th>1</th>\n",
       "      <td>1</td>\n",
       "      <td>1/1/2015</td>\n",
       "      <td>16.00</td>\n",
       "      <td>16.00</td>\n",
       "      <td>M</td>\n",
       "      <td>Classic</td>\n",
       "    </tr>\n",
       "    <tr>\n",
       "      <th>2</th>\n",
       "      <td>1</td>\n",
       "      <td>1/1/2015</td>\n",
       "      <td>18.50</td>\n",
       "      <td>18.50</td>\n",
       "      <td>L</td>\n",
       "      <td>Veggie</td>\n",
       "    </tr>\n",
       "    <tr>\n",
       "      <th>3</th>\n",
       "      <td>1</td>\n",
       "      <td>1/1/2015</td>\n",
       "      <td>20.75</td>\n",
       "      <td>20.75</td>\n",
       "      <td>L</td>\n",
       "      <td>Supreme</td>\n",
       "    </tr>\n",
       "    <tr>\n",
       "      <th>4</th>\n",
       "      <td>1</td>\n",
       "      <td>1/1/2015</td>\n",
       "      <td>16.00</td>\n",
       "      <td>16.00</td>\n",
       "      <td>M</td>\n",
       "      <td>Veggie</td>\n",
       "    </tr>\n",
       "  </tbody>\n",
       "</table>\n",
       "</div>"
      ],
      "text/plain": [
       "   quantity order_date  unit_price  total_price pizza_size pizza_category\n",
       "0         1   1/1/2015       13.25        13.25          M        Classic\n",
       "1         1   1/1/2015       16.00        16.00          M        Classic\n",
       "2         1   1/1/2015       18.50        18.50          L         Veggie\n",
       "3         1   1/1/2015       20.75        20.75          L        Supreme\n",
       "4         1   1/1/2015       16.00        16.00          M         Veggie"
      ]
     },
     "execution_count": 194,
     "metadata": {},
     "output_type": "execute_result"
    }
   ],
   "source": [
    "df.drop(['pizza_id','order_id','order_time','pizza_name_id', 'pizza_ingredients', 'pizza_name'],axis=1, inplace=True)\n",
    "#droping unrelvant columns, which are not requird for analysis\n",
    "df.head()"
   ]
  },
  {
   "cell_type": "code",
   "execution_count": 195,
   "id": "9f4c3f12-0677-44ae-b633-cf6dacc2df7f",
   "metadata": {},
   "outputs": [],
   "source": [
    "#Problem Statements\n",
    "#What is the Total sale of the pizzas (Here we use total_price column & sum of all the prices)\n",
    "#How much quantites are sold in 2015\n",
    "#In Which month more pizzas are sold (Here we use order_date column and total_price column)\n",
    "#Which pizza size more sold & which pizza size low sold (Here we use quantity and pizza_size column)\n",
    "#Which pizza category are more sold and which are lower sold (Here we use pizza_category and quantity column)"
   ]
  },
  {
   "cell_type": "code",
   "execution_count": 196,
   "id": "a9a2d98c-5521-4a18-a328-9bd89608e880",
   "metadata": {},
   "outputs": [
    {
     "data": {
      "text/plain": [
       "817860.05"
      ]
     },
     "execution_count": 196,
     "metadata": {},
     "output_type": "execute_result"
    }
   ],
   "source": [
    "Total_Sales=df['total_price'].sum() #Here we get the sum of sales for all pizzas in 2015\n",
    "Total_Sales"
   ]
  },
  {
   "cell_type": "code",
   "execution_count": 197,
   "id": "2e30069d-9171-4673-9abc-cbfe5ac84139",
   "metadata": {},
   "outputs": [
    {
     "data": {
      "text/plain": [
       "49574"
      ]
     },
     "execution_count": 197,
     "metadata": {},
     "output_type": "execute_result"
    }
   ],
   "source": [
    "Total_Quantity_sales=df['quantity'].sum() #Here we get the sum of quantities are sold pizzas in 2015\n",
    "Total_Quantity_sales"
   ]
  },
  {
   "cell_type": "code",
   "execution_count": 198,
   "id": "34bbe09b-ad31-43e9-be00-7fda3330ef82",
   "metadata": {},
   "outputs": [
    {
     "data": {
      "image/png": "[encoded data removed]",
      "text/plain": [
       "<Figure size 640x480 with 1 Axes>"
      ]
     },
     "metadata": {},
     "output_type": "display_data"
    }
   ],
   "source": [
    "sns.barplot(x=['Total Sales'], y=[Total_Sales])\n",
    "plt.title('Total Sales of Pizzas in 2015')\n",
    "plt.ylabel('Total Sales')\n",
    "plt.show()"
   ]
  },
  {
   "cell_type": "code",
   "execution_count": 199,
   "id": "d083f574-aafe-46b4-b74d-10f2f9c6714d",
   "metadata": {},
   "outputs": [
    {
     "data": {
      "image/png": "[encoded data removed]",
      "text/plain": [
       "<Figure size 600x400 with 1 Axes>"
      ]
     },
     "metadata": {},
     "output_type": "display_data"
    }
   ],
   "source": [
    "plt.figure(figsize=(6, 4))\n",
    "sns.barplot(x=['Total Quantity Sold'], y=[Total_Quantity_sales])\n",
    "plt.title('Total Quantity of Pizzas Sold in 2015')\n",
    "plt.ylabel('Quantity')\n",
    "plt.show()"
   ]
  },
  {
   "cell_type": "code",
   "execution_count": 200,
   "id": "4a73ce2a-b1ce-41b4-bd3d-f1da47fc65d6",
   "metadata": {},
   "outputs": [],
   "source": [
    "df2 = df.copy() #copying the exicting dataframe into new dataframe"
   ]
  },
  {
   "cell_type": "code",
   "execution_count": 201,
   "id": "531f7888-8e6f-4435-952a-ed7a4c9ee240",
   "metadata": {},
   "outputs": [],
   "source": [
    "df2['order_date'] = pd.to_datetime(df2['order_date'], format=\"%d-%m-%Y\", errors='coerce') #changing datatype object to datetime"
   ]
  },
  {
   "cell_type": "code",
   "execution_count": 202,
   "id": "66521547-bab1-4918-97c7-70310136a593",
   "metadata": {},
   "outputs": [],
   "source": [
    "df2['month'] = pd.to_datetime(df2['order_date']).dt.month #adding month column and extracting month from the date"
   ]
  },
  {
   "cell_type": "code",
   "execution_count": 203,
   "id": "7b7d6b4e-935f-4073-b0b3-95b1d650295f",
   "metadata": {},
   "outputs": [
    {
     "name": "stderr",
     "output_type": "stream",
     "text": [
      "C:\\Users\\Lenovo\\AppData\\Local\\Temp\\ipykernel_1920\\2086986978.py:3: FutureWarning: \n",
      "\n",
      "Passing `palette` without assigning `hue` is deprecated and will be removed in v0.14.0. Assign the `x` variable to `hue` and set `legend=False` for the same effect.\n",
      "\n",
      "  sns.barplot(x=monthly_sales.index, y=monthly_sales.values, palette='viridis')\n"
     ]
    },
    {
     "data": {
      "image/png": "[encoded data removed]",
      "text/plain": [
       "<Figure size 1000x600 with 1 Axes>"
      ]
     },
     "metadata": {},
     "output_type": "display_data"
    }
   ],
   "source": [
    "monthly_sales = df2.groupby('month')['total_price'].sum()\n",
    "plt.figure(figsize=(10, 6))\n",
    "sns.barplot(x=monthly_sales.index, y=monthly_sales.values, palette='viridis')\n",
    "plt.title('Monthly Sales of Pizzas in 2015')\n",
    "plt.xlabel('Month')\n",
    "plt.ylabel('Total Sales')\n",
    "plt.show()\n",
    "#Monthly sale of pizzas"
   ]
  },
  {
   "cell_type": "code",
   "execution_count": 204,
   "id": "b9170ce6-bcb3-47bb-9408-b38b7fa68943",
   "metadata": {},
   "outputs": [
    {
     "data": {
      "text/plain": [
       "quantity\n",
       "1    47693\n",
       "2      903\n",
       "3       21\n",
       "4        3\n",
       "Name: count, dtype: int64"
      ]
     },
     "execution_count": 204,
     "metadata": {},
     "output_type": "execute_result"
    }
   ],
   "source": [
    "Quantity=df['quantity'].value_counts()\n",
    "Quantity"
   ]
  },
  {
   "cell_type": "code",
   "execution_count": 205,
   "id": "f03f40f1-e206-48d5-8bf7-70bdb98184e4",
   "metadata": {},
   "outputs": [
    {
     "data": {
      "image/png": "[encoded data removed]",
      "text/plain": [
       "<Figure size 640x480 with 1 Axes>"
      ]
     },
     "metadata": {},
     "output_type": "display_data"
    }
   ],
   "source": [
    "sns.barplot(data=df, x='pizza_size', y=Quantity)\n",
    "plt.title('Sales of Pizzas according to the size')\n",
    "plt.xlabel('Sizes')\n",
    "plt.ylabel('Quantity')\n",
    "plt.show()\n",
    "#Quantity sale of pizzas accoding to sizes"
   ]
  },
  {
   "cell_type": "code",
   "execution_count": 206,
   "id": "2354d2d6-e7d5-41a2-9de4-4501d5a75c54",
   "metadata": {},
   "outputs": [
    {
     "data": {
      "image/png": "[encoded data removed]",
      "text/plain": [
       "<Figure size 640x480 with 1 Axes>"
      ]
     },
     "metadata": {},
     "output_type": "display_data"
    }
   ],
   "source": [
    "sns.barplot(data=df, x='pizza_category', y=Qunatity)\n",
    "plt.title('Sales of Pizzas according to the category')\n",
    "plt.xlabel('category')\n",
    "plt.ylabel('Quantity')\n",
    "plt.show()\n",
    "#Quantity sale of pizzas accoding to category"
   ]
  },
  {
   "cell_type": "code",
   "execution_count": 207,
   "id": "3233999c-d0c6-4cdb-a240-03a96d4d4e1d",
   "metadata": {},
   "outputs": [],
   "source": [
    "#INSIGHTS\n",
    "#Total Sale of pizzas in 2015 is 817860.05\n",
    "#Total Quantites of pizzas are sold in 2015 is 49574\n",
    "#More pizzas are sold in January, March, April, May, July, November\n",
    "#Medium size of pizzas are more sold\n",
    "#Classic pizza category are more sold"
   ]
  }
 ],
 "metadata": {
  "kernelspec": {
   "display_name": "Python 3 (ipykernel)",
   "language": "python",
   "name": "python3"
  },
  "language_info": {
   "codemirror_mode": {
    "name": "ipython",
    "version": 3
   },
   "file_extension": ".py",
   "mimetype": "text/x-python",
   "name": "python",
   "nbconvert_exporter": "python",
   "pygments_lexer": "ipython3",
   "version": "3.12.2"
  }
 },
 "nbformat": 4,
 "nbformat_minor": 5
}
